{
 "cells": [
  {
   "cell_type": "markdown",
   "metadata": {},
   "source": [
    "### 002 - RNA - The Second Nucleic Acid\n",
    "\n",
    "####  **【Problem】**\n",
    "\n",
    "An RNA string is a string formed from the alphabet containing 'A', 'C', 'G', and 'U'.\n",
    "\n",
    "Given a DNA string t corresponding to a coding strand, its transcribed RNA string u is formed by replacing all occurrences of 'T' in t with 'U' in u.\n",
    "\n",
    "Given: A DNA string t having length at most 1000 nt\n",
    "Return: The transcribed RNA string of t\n",
    "\n",
    "**Sample Dataset: GATGGAACTTGACTACGTAAATT**\n",
    "\n",
    "**Sample Output: GAUGGAACUUGACUACGUAAAUU**\n"
   ]
  },
  {
   "cell_type": "code",
   "execution_count": 1,
   "metadata": {},
   "outputs": [
    {
     "name": "stdout",
     "output_type": "stream",
     "text": [
      "GAUGGAACUUGACUACGUAAAUU\n"
     ]
    }
   ],
   "source": [
    "seq = \"GATGGAACTTGACTACGTAAATT\"\n",
    "RNA = list()\n",
    "for base in seq:\n",
    "    if base == \"T\":\n",
    "        RNA.append(\"U\")\n",
    "    else:\n",
    "        RNA.append(base)\n",
    "print(''.join(RNA))"
   ]
  }
 ],
 "metadata": {
  "kernelspec": {
   "display_name": "Python 3.10.5 ('Python_Virtual_Env_DS': venv)",
   "language": "python",
   "name": "python3"
  },
  "language_info": {
   "codemirror_mode": {
    "name": "ipython",
    "version": 3
   },
   "file_extension": ".py",
   "mimetype": "text/x-python",
   "name": "python",
   "nbconvert_exporter": "python",
   "pygments_lexer": "ipython3",
   "version": "3.10.5"
  },
  "orig_nbformat": 4,
  "vscode": {
   "interpreter": {
    "hash": "fb762f14e3140c823ac280d5151026466e1759fac93ff10e5c4051f5ccc5f6f7"
   }
  }
 },
 "nbformat": 4,
 "nbformat_minor": 2
}
