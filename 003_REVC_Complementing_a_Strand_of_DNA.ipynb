{
 "cells": [
  {
   "cell_type": "markdown",
   "metadata": {},
   "source": [
    "### 003 - REVC - The Secondary and Tertiary Structures of DNA\n",
    "\n",
    "####  **【Problem】**\n",
    "\n",
    "In DNA strings, symbols 'A' and 'T' are complements of each other, as are 'C' and 'G'.\n",
    "\n",
    "The reverse complement of a DNA string s is the string s.complement formed by reversing the symbols of s , then taking the complement of each symbol (e.g., the reverse complement of \"GTCA\" is \"TGAC\").\n",
    "\n",
    "Given: A DNA string s of length at most 1000 bp.\n",
    "\n",
    "Return: The reverse complement s.complement of s\n",
    "\n",
    "**Sample Dataset: AAAACCCGGT**\n",
    "\n",
    "**Sample Output: ACCGGGTTTT**"
   ]
  },
  {
   "cell_type": "code",
   "execution_count": 4,
   "metadata": {},
   "outputs": [
    {
     "name": "stdout",
     "output_type": "stream",
     "text": [
      "ACCGGGTTTT\n"
     ]
    }
   ],
   "source": [
    "seq = \"AAAACCCGGT\"\n",
    "def InvertSeq(seq):\n",
    "    return seq[::-1]\n",
    "\n",
    "def BaseComplement(invertedSeq):\n",
    "    complementSeq = list()\n",
    "    for base in invertedSeq:\n",
    "        if base == \"A\":\n",
    "            complementSeq.append(\"T\")\n",
    "        elif base == \"C\":\n",
    "            complementSeq.append(\"G\")\n",
    "        elif base == \"T\":\n",
    "            complementSeq.append(\"A\")\n",
    "        elif base == \"G\":\n",
    "            complementSeq.append(\"C\")\n",
    "        else:\n",
    "            complementSeq.append(\"*\")\n",
    "    return \"\".join(complementSeq)\n",
    "\n",
    "print(BaseComplement(InvertSeq(seq)))"
   ]
  }
 ],
 "metadata": {
  "kernelspec": {
   "display_name": "Python 3.10.5 ('Python_Virtual_Env_DS': venv)",
   "language": "python",
   "name": "python3"
  },
  "language_info": {
   "codemirror_mode": {
    "name": "ipython",
    "version": 3
   },
   "file_extension": ".py",
   "mimetype": "text/x-python",
   "name": "python",
   "nbconvert_exporter": "python",
   "pygments_lexer": "ipython3",
   "version": "3.10.5"
  },
  "orig_nbformat": 4,
  "vscode": {
   "interpreter": {
    "hash": "fb762f14e3140c823ac280d5151026466e1759fac93ff10e5c4051f5ccc5f6f7"
   }
  }
 },
 "nbformat": 4,
 "nbformat_minor": 2
}
